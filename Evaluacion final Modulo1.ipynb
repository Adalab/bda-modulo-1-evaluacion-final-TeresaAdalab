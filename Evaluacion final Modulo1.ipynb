{
 "cells": [
  {
   "cell_type": "markdown",
   "metadata": {},
   "source": [
    "### Creación de una Clase \"Tienda Online\" con los siguientes atributos:inventario,clientes, ventas totales"
   ]
  },
  {
   "cell_type": "markdown",
   "metadata": {},
   "source": [
    "1. Lo primero que vamos a hacer es crear una estructura de tipo  **Clase**  \n",
    "En esta estructura, se define una clase con la palabra clave class, seguida del nombre de la clase. Dentro de la clase, se definen los métodos, que son funciones asociadas a la clase, y los atributos, que son variables asociadas a los objetos creados a partir de la clase.\n",
    "\n",
    "El método especial __init__() se utiliza para inicializar los atributos de un objeto cuando se crea a partir de la clase. El parámetro self hace referencia al objeto en sí mismo....\n",
    "\n"
   ]
  },
  {
   "cell_type": "markdown",
   "metadata": {},
   "source": []
  }
 ],
 "metadata": {
  "kernelspec": {
   "display_name": "base",
   "language": "python",
   "name": "python3"
  },
  "language_info": {
   "name": "python",
   "version": "3.9.7"
  }
 },
 "nbformat": 4,
 "nbformat_minor": 2
}
