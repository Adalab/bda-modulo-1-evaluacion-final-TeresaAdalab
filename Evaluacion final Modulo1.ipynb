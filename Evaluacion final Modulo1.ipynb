{
 "cells": [
  {
   "cell_type": "markdown",
   "metadata": {},
   "source": [
    "## 0. Creación de la estructura de tipo  **Clase**  y su metódo inicial</p>\n",
    "## A.Clase\n",
    "Lo primero que vamos a hacer es crear una estructura de tipo **Clase**, definiendo la clase como *Tienda Online*.</p>\n",
    "En esta estructura, se define una clase con la palabra clave *class*, seguida del nombre de la clase. Dentro de la clase, se definen los métodos, que son funciones asociadas a la clase, y los atributos, que son variables asociadas a los objetos creados a partir de la clase.</p>\n",
    "\n",
    "\n",
    "\n",
    "----------------\n",
    "\n",
    "## B. Método\n",
    "\n",
    "El método especial **init()** se utiliza para inicializar los atributos de un objeto cuando se crea a partir de la clase, en este caso son inventario, clientes , histoarial de compras y ventas totales \n",
    " El parámetro self hace referencia al objeto en sí mismo....</p>\n",
    "- inventario:  Lista vacía que va a guardar los productos.\n",
    "- clientes:  diccionario vacío que va  guardar los clientes.\n",
    "- historial: diccionario vacio que contiene email y las compras.\n",
    "- ventas_totales: Contador de ventas que comienza por 0\n",
    "\n",
    "\n",
    "      \n"
   ]
  },
  {
   "cell_type": "markdown",
   "metadata": {},
   "source": [
    "## 1. Método Agregar Productos "
   ]
  },
  {
   "cell_type": "markdown",
   "metadata": {},
   "source": [
    "Con este metodo queremos ver el inventario de los productis y sus detalles.</p>\n",
    "- Bucle For: Hemos usado ** for** para poder recorrer el  inventario.\n",
    "- Condicion If Else:\n",
    "    - Hemos buscado el producto dentro del inventario *if producto['nombre'] == nombre:*\n",
    "    - En caso de que el producto ya exista hemos actualizado su cantidad sumandolo a la cantidad ya existente *producto['cantidad'] += cantidad*\n",
    "    - En caso de que el producto no exista se ha agregado al diccionario con su datos correspondientes como *nuevo_producto* y para ello hemos usado la funcion *append.*.\n",
    "    - Se ha usado *print* para mostrar el mensaje de si se ha actualizado o agreado el producto\n",
    "- Return: Para que nos devuelva el diccionario de producto actualizado.\n",
    "\n"
   ]
  },
  {
   "cell_type": "markdown",
   "metadata": {},
   "source": [
    "## 2. Método Ver Inventario de Productos"
   ]
  },
  {
   "cell_type": "markdown",
   "metadata": {},
   "source": [
    "Con este nuevo método **ver_inventario(self)** queremos mostrar el inventario de productos y sus detalles.\n",
    "- Bucle For: Hemos usado ** for** para poder recorrer el  inventario.\n",
    "- Lista de diccionarios:\n",
    "    - nombre = producto['nombre']. Extraemos el valor asociado con la clave 'nombre' y se asigna a la variable nombre.\n",
    "    - precio = producto['precio']. Extrae el valor asociado con la clave 'precio' del diccionario producto actual y se asigna a la variable precio.\n",
    "    - cantidad = producto['cantidad'].Extrae el valor asociado con la clave 'precio' del diccionario producto actual y se asigna a la variable precio.\n",
    "- Print: Impresioón de los detalles del producto que hay en el inventario.\n"
   ]
  },
  {
   "cell_type": "markdown",
   "metadata": {},
   "source": [
    "## 3. Método Buscar Productos \n",
    "\n",
    "Con este nuevo método **buscar_productos(self, nombre)** queremos buscar un producto especifico.\n",
    "- Bucle For: Hemos usado ** for** para poder recorrer el  inventario iterando sobre cada elemento.\n",
    "- If: if producto[\"nombre\"].lower() == nombre.lower(): Si el producto (en minúsculas) con el nombre proporcionado (también en minúsculas), entonces es verdad y nos tiene que enseñar el producto\n",
    "    - Print: Dentro de  if que si el producto coincide nos da sus valores.Impresioón de los detalles del producto que hay en el inventario.\n",
    "    - Append: Hemos usado la función *append*, por si en caso de que se encuentre el producto, éste sea añadido a los resultados.\n",
    "    - Return: Hemos usado la instrucción *return*, para que nos dé los productos encontrados \n",
    " - If not resultados , sino está en resultados nos debe dar el *print* de Producto no encontrado.\n"
   ]
  },
  {
   "cell_type": "markdown",
   "metadata": {},
   "source": [
    "## 4. Método Actualizar Stocks\n",
    "\n",
    "Con este nuevo método **def actualizar_stock(self, nombre, cantidad)**queremos actualizar los productos y cantidades un producto especifico.\n",
    "- Bucle For: Hemos usado ** for** para poder recorrer el  inventario iterando sobre cada elemento.\n",
    "    - If if producto['nombre'] == nombre: Dentro del bucle *for* hemos creado una condicion *if*  nos ayude a verificar si el nombre del producto que queremos actualizar esta en el inventario. \n",
    "        - Si el nombre del producto coincide con el nombre que está como  argumento, se verifica si la cantidad no es None mediante un *if anidado*. Si es así, se agrega la cantidad pasada como argumento (cantidad) a la cantidad actual del producto (producto['cantidad'] += cantidad).\n",
    "        - Print: Imprimimos un mensaje de éxito con la información del producto actualizado.\n",
    "        - Return: Hemos añadido la instrucción *return* para que cada vez que nos encuentre el producto y lo actualicemos, nos devuelva el inventario final.\n",
    "    \n",
    "-Print: Usamos *Print* fuera del bulce, ya que debe imprimirse después de que se haya recorrido todo el inventario y no se haya encontrado el producto. \n",
    "            "
   ]
  },
  {
   "cell_type": "markdown",
   "metadata": {},
   "source": [
    "## 5. Método Eliminar_producto(self, nombre): \n",
    "- Bucle For: Hemos usado ** for** para poder recorrer el  inventario iterando sobre cada elemento.\n",
    "    - If if producto['nombre'] == nombre: Dentro del bucle *for* hemos creado una condicion *if*  nos ayude a verificar si el nombre del producto que queremos eliminar esta en el inventario. \n",
    "        - Si el nombre del producto coincide con el nombre que está como  argumento, eliminamos el producto de la lista usando la *remove*\n",
    "        - Print: Imprimimos un mensaje de éxito con la información del producto eliminado.\n",
    "        - Return: Hemos añadido la instrucción *return* que nos devuelva el inventario una vez que se elimine el producto.\n",
    "     - Else:Añadimos el *else* en caso de que no se cumpla la condicion anterior y añadimos un *print* que nos muestre que el producto no se la podido eliminar despues de que el for haya iterado completamente \n",
    "    \n"
   ]
  },
  {
   "cell_type": "markdown",
   "metadata": {},
   "source": [
    "## 6.Método calcular_valor_inventario(self) \n",
    "- *valor_total*: Hemos creado está variable para ir acumulando el valor total del inventario.\n",
    "- Bucle For: Dentro de bucle for hemos calculando el valor del producto que es igual al precio * la cantidad.\n",
    "  - valor_total += valor_producto. Se añade el l valor del producto al valor total cada vez que se realiza el bucle, es decir calcula el valor de cada uno y las suma al total del inventario\n",
    "- Print: Este *print* nos muestra el valor del inventario despues de realizar el calculo\n",
    "- Return: Nos devuelve el valor total del inventario\n"
   ]
  },
  {
   "cell_type": "markdown",
   "metadata": {},
   "source": [
    "## xxx. Elaboración del Código"
   ]
  },
  {
   "cell_type": "code",
   "execution_count": 1167,
   "metadata": {},
   "outputs": [],
   "source": [
    "# Definición de la Tienda Online\n",
    "class TiendaOnline:\n",
    "     # Método 0: Constructor y Atributos Iniciales\n",
    "    def __init__(self):\n",
    "        self.inventario = []# una lista vacía que va a guardar los productos: {\"nombre\",  \"precio\", \"cantidad\"}\n",
    "        self.clientes = {} # diccionario vacío que va  guardar los clientes,{\"nombre\", \"email\" }\n",
    "        self.historial= {} # diccionario vacio que contiene, {\"email y compras\"}\n",
    "        self.ventas_totales = 0.0  # Es un número decimal que llevará el registro de las ventas totales de la tienda y comienza por 0.\n",
    "\n",
    "# Método 1: Agregar productos\n",
    "    def agregar_producto(self, nombre, precio, cantidad):\n",
    "        for producto in self.inventario:  # Itera a través inventario\n",
    "            if producto['nombre'] == nombre:   # Producto existe en el inventario.\n",
    "                producto['cantidad'] += cantidad # Actualiza su cantidad.\n",
    "                print(f\"Actualizada la cantidad de {nombre} en {cantidad} uds.\") #Muestra el mensaje de actualización\n",
    "                return # Devuelve el diccionario de productos actualizado si ya existe\n",
    "        else:\n",
    "            nuevo_producto = {'nombre': nombre, 'precio': precio, 'cantidad': cantidad} # Si producto existe en el inventario.\n",
    "            self.inventario.append(nuevo_producto)\n",
    "            print(f\"Agregado el producto {nombre} al inventario.\")\n",
    "\n",
    "# Método 2: Inventario\n",
    "    def ver_inventario(self):\n",
    "        inventario = []  # Inicializa una lista vacía para el inventario\n",
    "        for producto in self.inventario:  # Itera a través del inventario\n",
    "            nombre = producto['nombre'] \n",
    "            precio = producto['precio']\n",
    "            cantidad = producto['cantidad']\n",
    "            print(f\"Nombre: {nombre}, Precio: ${precio}, Cantidad: {cantidad}\")\n",
    "\n",
    "# Método 3: Buscar productos\n",
    "    \n",
    "    def buscar_producto_por_nombre(self, nombre): \n",
    "        resultados = [] # Inicia una lista vacía para almacenar los resultados de la búsqueda\n",
    "        for producto in self.inventario:  # Itera a través de productos\n",
    "            if producto[\"nombre\"].lower() == nombre.lower(): # Compara el nombre del producto (en minúsculas) con el nombre proporcionado (también en minúsculas)\n",
    "                print(f\"Nombre: {producto['nombre']}, Precio: ${producto['precio']}, Cantidad: {producto['cantidad']}\") # Si se encuentra el producto, imprime sus detalles\n",
    "                resultados.append(producto) # Agrega el producto encontrado a la lista de resultados\n",
    "                return resultados  \n",
    "        if not resultados:    # Verifica si se encontraron productos\n",
    "            print(\"Producto no encontrado.\")\n",
    "            \n",
    "# Método 4: Actualizar Stock\n",
    "      \n",
    "    def actualizar_stock(self, nombre, cantidad):\n",
    "        for producto in self.inventario:\n",
    "            if producto['nombre'] == nombre:\n",
    "                if cantidad is not None:\n",
    "                    producto['cantidad'] += cantidad\n",
    "                print(f\"Stock actualizado para {nombre}.\")   # Imprime un mensaje de éxito con la información del producto actualizado\n",
    "                return self.inventario # Devuelve el inventario actualizado en caso de que encuentre el producto.\n",
    "            \n",
    "        print(f\"Producto no encontrado {nombre}.\") # Si el producto no se encuentra, muestra un mensaje de error\n",
    "        return None\n",
    "\n",
    "# Método 5: Eliminar Productos\n",
    "    def eliminar_producto(self, nombre):\n",
    "        for producto in self.inventario:\n",
    "            if producto['nombre'] == nombre:  # Verifica si el 'producti' existe\n",
    "                self.inventario.remove(producto) # Si el que buscamos producto está se elimina\n",
    "                print(\"Producto eliminado con éxito.\")   # Imprime un mensaje de éxito de la eliminación del producto\n",
    "                return self.inventario  # Nos devuelve el inventario actualizado.\n",
    "                break\n",
    "        else:\n",
    "            print(f\"No se encontró el producto  {nombre}.\")\n",
    "     \n",
    "    # Método 6: Valor Inventario\n",
    "    def calcular_valor_inventario(self):\n",
    "        valor_total = 0   # Inicializa una variable para el total del valor en 0 que se va a ir acumulando\n",
    "        for producto in self.inventario: # Itera a través de los productos\n",
    "            valor_producto = producto['precio'] * producto['cantidad'] # Multiplicamos el valor de cada producto por su cantidad \n",
    "            valor_total += valor_producto # Agregamos el valor del producto al valor total cada vez que se realiza el bucle, es decir calcula el valor de cada uno y las suma al total del inventario\n",
    "        print(f\"El valor total del inventario es: {valor_total}\")\n",
    "        return valor_total # Devuelve el valor total de inventario\n",
    "\n",
    "\n",
    "        \n",
    "\n",
    " "
   ]
  },
  {
   "cell_type": "markdown",
   "metadata": {},
   "source": [
    "## xxx. Resultados del programa"
   ]
  },
  {
   "cell_type": "code",
   "execution_count": 1168,
   "metadata": {},
   "outputs": [],
   "source": [
    "# Crear una instancia de la clase TiendaOnline\n",
    "tienda = TiendaOnline()"
   ]
  },
  {
   "cell_type": "code",
   "execution_count": 1169,
   "metadata": {},
   "outputs": [
    {
     "name": "stdout",
     "output_type": "stream",
     "text": [
      "Agregado el producto Camisa al inventario.\n",
      "Agregado el producto Pantalon al inventario.\n",
      "Agregado el producto Zapatos al inventario.\n"
     ]
    }
   ],
   "source": [
    "# Agregar productos\n",
    "tienda.agregar_producto('Camisa', 20, 40)\n",
    "tienda.agregar_producto('Pantalon', 30, 30)\n",
    "tienda.agregar_producto('Zapatos', 50, 40)"
   ]
  },
  {
   "cell_type": "code",
   "execution_count": 1170,
   "metadata": {},
   "outputs": [
    {
     "name": "stdout",
     "output_type": "stream",
     "text": [
      "Nombre: Camisa, Precio: $20, Cantidad: 40\n",
      "Nombre: Pantalon, Precio: $30, Cantidad: 30\n",
      "Nombre: Zapatos, Precio: $50, Cantidad: 40\n"
     ]
    }
   ],
   "source": [
    "# Ver Inventario\n",
    "tienda.ver_inventario()"
   ]
  },
  {
   "cell_type": "code",
   "execution_count": 1171,
   "metadata": {},
   "outputs": [
    {
     "name": "stdout",
     "output_type": "stream",
     "text": [
      "\n",
      "Búsqueda de productos por nombre 'Camisa':\n",
      "Nombre: Camisa, Precio: $20, Cantidad: 40\n",
      "[{'nombre': 'Camisa', 'precio': 20, 'cantidad': 40}]\n",
      "\n",
      "Búsqueda de productos por nombre 'Vestido':\n",
      "Producto no encontrado.\n",
      "None\n",
      "\n",
      "Búsqueda de productos por nombre 'Pantalon':\n",
      "Nombre: Pantalon, Precio: $30, Cantidad: 30\n",
      "[{'nombre': 'Pantalon', 'precio': 30, 'cantidad': 30}]\n"
     ]
    }
   ],
   "source": [
    "# Buscar productos\n",
    "print(\"\\nBúsqueda de productos por nombre 'Camisa':\")\n",
    "print(tienda.buscar_producto_por_nombre(\"Camisa\"))\n",
    "\n",
    "print(\"\\nBúsqueda de productos por nombre 'Vestido':\")\n",
    "print(tienda.buscar_producto_por_nombre(\"Vestido\"))\n",
    "\n",
    "\n",
    "print(\"\\nBúsqueda de productos por nombre 'Pantalon':\")\n",
    "print(tienda.buscar_producto_por_nombre(\"Pantalon\"))"
   ]
  },
  {
   "cell_type": "code",
   "execution_count": 1172,
   "metadata": {},
   "outputs": [
    {
     "name": "stdout",
     "output_type": "stream",
     "text": [
      "Stock actualizado para Camisa.\n",
      "Nombre: Camisa, Precio: $20, Cantidad: 45\n",
      "Nombre: Pantalon, Precio: $30, Cantidad: 30\n",
      "Nombre: Zapatos, Precio: $50, Cantidad: 40\n",
      "Stock actualizado para Pantalon.\n",
      "Nombre: Camisa, Precio: $20, Cantidad: 45\n",
      "Nombre: Pantalon, Precio: $30, Cantidad: 40\n",
      "Nombre: Zapatos, Precio: $50, Cantidad: 40\n",
      "Producto no encontrado Gorro.\n",
      "Nombre: Camisa, Precio: $20, Cantidad: 45\n",
      "Nombre: Pantalon, Precio: $30, Cantidad: 40\n",
      "Nombre: Zapatos, Precio: $50, Cantidad: 40\n"
     ]
    }
   ],
   "source": [
    "#  Actualizar Stock\n",
    "tienda.actualizar_stock(\"Camisa\", +5)\n",
    "tienda.ver_inventario()\n",
    "\n",
    "tienda.actualizar_stock(\"Pantalon\", +10)\n",
    "tienda.ver_inventario()\n",
    "\n",
    "tienda.actualizar_stock(\"Gorro\", +10)\n",
    "tienda.ver_inventario()\n",
    "\n",
    "\n"
   ]
  },
  {
   "cell_type": "code",
   "execution_count": 1173,
   "metadata": {},
   "outputs": [
    {
     "name": "stdout",
     "output_type": "stream",
     "text": [
      "Producto eliminado con éxito.\n",
      "Nombre: Camisa, Precio: $20, Cantidad: 45\n",
      "Nombre: Zapatos, Precio: $50, Cantidad: 40\n"
     ]
    }
   ],
   "source": [
    "# Eliminar Productos\n",
    "tienda.eliminar_producto(\"Pantalon\")\n",
    "tienda.ver_inventario()"
   ]
  },
  {
   "cell_type": "code",
   "execution_count": 1174,
   "metadata": {},
   "outputs": [
    {
     "name": "stdout",
     "output_type": "stream",
     "text": [
      "No se encontró el producto  Blusa.\n",
      "Nombre: Camisa, Precio: $20, Cantidad: 45\n",
      "Nombre: Zapatos, Precio: $50, Cantidad: 40\n"
     ]
    }
   ],
   "source": [
    "tienda.eliminar_producto(\"Blusa\")\n",
    "tienda.ver_inventario()"
   ]
  },
  {
   "cell_type": "code",
   "execution_count": 1175,
   "metadata": {},
   "outputs": [
    {
     "name": "stdout",
     "output_type": "stream",
     "text": [
      "El valor total del inventario es: 2900\n",
      "Valor total del inventario: 2900\n"
     ]
    }
   ],
   "source": [
    "# Valor total del inventario\n",
    "print(\"Valor total del inventario:\", tienda.calcular_valor_inventario())\n"
   ]
  }
 ],
 "metadata": {
  "kernelspec": {
   "display_name": "base",
   "language": "python",
   "name": "python3"
  },
  "language_info": {
   "codemirror_mode": {
    "name": "ipython",
    "version": 3
   },
   "file_extension": ".py",
   "mimetype": "text/x-python",
   "name": "python",
   "nbconvert_exporter": "python",
   "pygments_lexer": "ipython3",
   "version": "3.9.7"
  }
 },
 "nbformat": 4,
 "nbformat_minor": 2
}
