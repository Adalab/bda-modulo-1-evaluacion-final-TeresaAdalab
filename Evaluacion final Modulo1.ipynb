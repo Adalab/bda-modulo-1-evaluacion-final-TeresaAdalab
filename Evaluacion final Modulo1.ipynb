{
 "cells": [
  {
   "cell_type": "markdown",
   "metadata": {},
   "source": [
    "## 0. Creación de la estructura de tipo  **Clase**  y su Metódo inicial</p>\n",
    "## A.Clase\n",
    "Lo primero que vamos a hacer es crear una estructura de tipo **Clase**, definiendo la clase como *Tienda Online*.</p>\n",
    "En esta estructura, se define una clase con la palabra clave *class*, seguida del nombre de la clase. Dentro de la clase, se definen los métodos, que son funciones asociadas a la clase, y los atributos, que son variables asociadas a los objetos creados a partir de la clase.</p>\n",
    "\n",
    "\n",
    "\n",
    "----------------\n",
    "\n",
    "## B. Método\n",
    "\n",
    "El método especial **init()** se utiliza para inicializar los atributos de un objeto cuando se crea a partir de la clase, en este caso son inventario, clientes , histoarial de compras y ventas totales \n",
    " El parámetro self hace referencia al objeto en sí mismo.</p>\n",
    "- inventario:  Lista vacía que va a guardar los productos.\n",
    "- clientes:  diccionario vacío que va  guardar los clientes.\n",
    "- historial: diccionario vacio que contiene email y las compras.\n",
    "- ventas_totales: Contador de ventas que comienza por 0.\n",
    "\n",
    "\n",
    "      \n"
   ]
  },
  {
   "cell_type": "markdown",
   "metadata": {},
   "source": []
  },
  {
   "cell_type": "markdown",
   "metadata": {},
   "source": [
    "## 1. Método Agregar Productos "
   ]
  },
  {
   "cell_type": "markdown",
   "metadata": {},
   "source": [
    "Con este metodo queremos ver el inventario de los productis y sus detalles.</p>\n",
    "- Bucle For: Hemos usado ** for** para poder recorrer el  inventario.\n",
    "- Condicion If Else:\n",
    "    - Hemos buscado el producto dentro del inventario *if producto['nombre'] == nombre:*\n",
    "    - En caso de que el producto ya exista hemos actualizado su cantidad sumandolo a la cantidad ya existente *producto['cantidad'] += cantidad*\n",
    "    - En caso de que el producto no exista se ha agregado al diccionario con su datos correspondientes como *nuevo_producto* y para ello hemos usado la funcion *append.*.\n",
    "    - Se ha usado *print* para mostrar el mensaje de si se ha actualizado o agreado el producto\n",
    "- Return: Para que nos devuelva el diccionario de producto actualizado.\n",
    "\n"
   ]
  },
  {
   "cell_type": "markdown",
   "metadata": {},
   "source": [
    "## 2. Método Ver Inventario de Productos"
   ]
  },
  {
   "cell_type": "markdown",
   "metadata": {},
   "source": [
    "Con este nuevo método **ver_inventario(self)** queremos mostrar el inventario de productos y sus detalles.\n",
    "- Bucle For: Hemos usado ** for** para poder recorrer el  inventario.\n",
    "- Lista de diccionarios:\n",
    "    - nombre = producto['nombre']. Extraemos el valor asociado con la clave 'nombre' y se asigna a la variable nombre.\n",
    "    - precio = producto['precio']. Extrae el valor asociado con la clave 'precio' del diccionario producto actual y se asigna a la variable precio.\n",
    "    - cantidad = producto['cantidad'].Extrae el valor asociado con la clave 'precio' del diccionario producto actual y se asigna a la variable precio.\n",
    "- Print: Impresioón de los detalles del producto que hay en el inventario.\n"
   ]
  },
  {
   "cell_type": "markdown",
   "metadata": {},
   "source": [
    "## 3. Método Buscar Productos \n",
    "\n",
    "Con este nuevo método **buscar_productos(self, nombre)** queremos buscar un producto especifico.\n",
    "- Bucle For: Hemos usado ** for** para poder recorrer el  inventario iterando sobre cada elemento.\n",
    "- If: if producto[\"nombre\"].lower() == nombre.lower(): Si el producto (en minúsculas) con el nombre proporcionado (también en minúsculas), entonces es verdad y nos tiene que enseñar el producto\n",
    "    - Print: Dentro de  if que si el producto coincide nos da sus valores.Impresioón de los detalles del producto que hay en el inventario.\n",
    "    - Append: Hemos usado la función *append*, por si en caso de que se encuentre el producto, éste sea añadido a los resultados.\n",
    "    - Return: Hemos usado la instrucción *return*, para que nos dé los productos encontrados \n",
    " - If not resultados , sino está en resultados nos debe dar el *print* de Producto no encontrado.\n"
   ]
  },
  {
   "cell_type": "markdown",
   "metadata": {},
   "source": [
    "## 4. Método Actualizar Stocks\n",
    "\n",
    "Con este nuevo método **def actualizar_stock(self, nombre, cantidad)**queremos actualizar los productos y cantidades un producto especifico.\n",
    "- Bucle For: Hemos usado ** for** para poder recorrer el  inventario iterando sobre cada elemento.\n",
    "    - If if producto['nombre'] == nombre: Dentro del bucle *for* hemos creado una condicion *if*  nos ayude a verificar si el nombre del producto que queremos actualizar esta en el inventario. \n",
    "        - Si el nombre del producto coincide con el nombre que está como  argumento, se verifica si la cantidad no es None mediante un *if anidado*. Si es así, se agrega la cantidad pasada como argumento (cantidad) a la cantidad actual del producto (producto['cantidad'] += cantidad).\n",
    "        - Print: Imprimimos un mensaje de éxito con la información del producto actualizado.\n",
    "        - Return: Hemos añadido la instrucción *return* para que cada vez que nos encuentre el producto y lo actualicemos, nos devuelva el inventario final.\n",
    "    \n",
    "- Print: Usamos *Print* fuera del bulce, ya que debe imprimirse después de que se haya recorrido todo el inventario y no se haya encontrado el producto. \n",
    "            "
   ]
  },
  {
   "cell_type": "markdown",
   "metadata": {},
   "source": [
    "## 5. Método Eliminar_producto(self, nombre): \n",
    "- Bucle For: Hemos usado ** for** para poder recorrer el  inventario iterando sobre cada elemento.\n",
    "    - If if producto['nombre'] == nombre: Dentro del bucle *for* hemos creado una condicion *if*  nos ayude a verificar si el nombre del producto que queremos eliminar esta en el inventario. \n",
    "        - Si el nombre del producto coincide con el nombre que está como  argumento, eliminamos el producto de la lista usando la *remove*\n",
    "        - Print: Imprimimos un mensaje de éxito con la información del producto eliminado.\n",
    "        - Return: Hemos añadido la instrucción *return* que nos devuelva el inventario una vez que se elimine el producto.\n",
    "     - Else:Añadimos el *else* en caso de que no se cumpla la condicion anterior y añadimos un *print* que nos muestre que el producto no se la podido eliminar despues de que el for haya iterado completamente \n",
    "    \n"
   ]
  },
  {
   "cell_type": "markdown",
   "metadata": {},
   "source": [
    "## 6.Método Calcular_valor_inventario\n",
    "- *valor_total*: Hemos creado está variable para ir acumulando el valor total del inventario.\n",
    "- Bucle For: Dentro de bucle for hemos calculando el valor del producto que es igual al precio * la cantidad.\n",
    "  - valor_total += valor_producto. Se añade el l valor del producto al valor total cada vez que se realiza el bucle, es decir calcula el valor de cada uno y las suma al total del inventario\n",
    "- Print: Este *print* nos muestra el valor del inventario despues de realizar el calculo\n",
    "- Return: Nos devuelve el valor total del inventario\n"
   ]
  },
  {
   "cell_type": "markdown",
   "metadata": {},
   "source": [
    "## 7.Método Buscar producto con Regex \n",
    "Con el nuevo método **buscar_producto_regex** buscamos 2 argumentos (self) y el patron (expresión regular que va a buscar las coincidencias de los nombres de los productos)\n",
    "- *import re*: Importamos la libreria que tiene incluídas las expresiones regulares.\n",
    "- resultados: creamos una lista vacía para poder guardar los nombres que cumplan con la expresión que estamos buscando.\n",
    "- Bucle For: Para iterar la lista \n",
    "  -  **if re.search** .  Para buscar coincidencias del patrón proporcionado en el nombre del producto, hemos usado **re.search** ya que busca el patrón dentro de una cadena y devuelve la primera coincidencia encontrada. \n",
    "  - resultados.append(producto). Se añaden los resultados que se han encontrado en la cadenda *re.search* \n",
    "- Bucle For: Después de haber iterado sobre todos los productos en el inventario, iteramos sobre la lista resultados e imprimimos los detalles de cada producto coincidente incluyendo el nombre, precio y cantidad del producto.\n"
   ]
  },
  {
   "cell_type": "markdown",
   "metadata": {},
   "source": [
    "## 8.Método Realizar_compra\n",
    "\n",
    "Con el nuevo método **realizar_compras** queremos que un cliente realice las compras de los productos del inventario y que éste luego se actualice en función de la petición del cliente.\n",
    "- *carrito*: Creamos una lista vacía donde se van a ir almacenando las compras.\n",
    "- *seguir comprando*: Variable boleana donde se inicia el bucle **while** de compra y continua mientras el cliente quiera.\n",
    "- *coste_total*: Variable para guardar el coste de la compra.\n",
    "- **Bucle While**: que permite realizar al cliente varias compras.\n",
    "    - *self.ver_inventario()*. Instancia para mostrar el inventario actual.\n",
    "    - *nombre_producto*. Mediante un **input** pedimos al comprador el nombre del producto.\n",
    "    - *cantidad*. Mediante un **input** pedimos al comprador las unidades.\n",
    "    - *producto_encontrado*. Verificamos si se encontro el producto.\n",
    "    - *costo_total +=*. Calculamos el coste de los productos y las cantidades solicitadas\n",
    " - **Bucle For**: Iniciamos la busqueda en el inventario y vamos iterando en el mismo.      \n",
    "        - **if producto['nombre']and producto['cantidad']**. Comprobamos si el producto y la cantidad están disponibles.\n",
    "        - *carrito.append*. Se agrega el producto como un diccionario al carrito que habíamos creado con sus datos correspondientes.\n",
    "        - *producto_encontrado*. Es una variable boleana donde se establece que el cliente ha encontrado su producto.       \n",
    "        - **if not** . En caso de que no se encuentre el producto se muestra un **print**\n",
    " - *Respuesta*: Es una varibale con **input** donde se pregunta al cliente si quiere seguir comprando.\n",
    "    - **if respuesta **.Si la respuesta no es 's'el bucle se detiene y se para la compra.\n",
    "Antes de finalizar hacemos un **print** donde se incluye la variable de *coste_total* para saber el importe final\n",
    "\n",
    "\n"
   ]
  },
  {
   "cell_type": "markdown",
   "metadata": {},
   "source": [
    "## Método 9:Procesar Pago\n",
    "\n",
    "Con el nuevo método **procesar_pago** queremos realizar el pago de una compra, calcuar el cambio y hacer una confirmacion\n",
    "- **try...except**: Con este  bloque intentamos ejecutar primero  el código que hay dentro del bloque try. Si se produce una excepción de tipo ValueError, se ejecuta el código dentro del bloque except.\n",
    "Si ocurre una excepción ValueError en cualquier parte del bloque try, la excepción es capturada y manejada en el bloque except.\n",
    "    - *total*, *pago*. Son las cantidades que le hemos pedido al cliente que introduzaca mediante la función *input* y luego la convertivos en decimales usando lafunción *float*.\n",
    "    - *cambio*. Es la variable que realiza el calculo entr la cantodad que hay que pagar y la que nos da el cliente \n",
    "- **if...else**: Es una condicion para verificar que el pago del cliente es suficiente. Si el cambio es insuficiente se indica que el usuario y se muestra un mensaje medainte **print**\n",
    "\n",
    "\n",
    "\n"
   ]
  },
  {
   "cell_type": "markdown",
   "metadata": {},
   "source": [
    "## Método 10:Agregar con cliente\n",
    "El método de **agregar_cliente** toma tres parámetros: self al método que vamos a instanciar de nuestra clase tienda, nombre del cliente que se va a agregar, y email, que es la dirección de correo electrónico del cliente.\n",
    "- **if not...else**: Es una condicion para verificar que el email del  cliente  no esta en el diccionario clientes.Si la condición es verdadera (es decir que no se encuentra en self.clientes) se ejecuta el bloque de código.\n",
    "    -*self.clientes[email]*.Se agrega una entrada al diccionario clientes, donde la clave es el correo electrónico y el valor es una lista que contiene el nombre y el correo electrónico del cliente.\n",
    "  - **print**. Se imprime un mensaje indicando que el cliente ha sido registrado exitosamente.\n",
    "  - **return**. Nos devuelve el diccionario de clientes\n",
    " Si la condición es falsa se ejectua el else, y se muestra un **print** con un mensaje de  error indicando que el correo electrónico ya está registrado."
   ]
  },
  {
   "cell_type": "markdown",
   "metadata": {},
   "source": [
    "# Método 11: Ver Clientes  \n",
    "Con **ver_clientes**  queremos ver los datos registrados de los clientes dentro de nuestra clase(tienda) \n",
    "- **for **: Este bucle itera a través de el diccionario clientes donde cada elemento tiene su nombre y el email. \n",
    "    - **print**. Imprime los detalles del cliente en el formato especificado.\n",
    "\n"
   ]
  },
  {
   "cell_type": "markdown",
   "metadata": {},
   "source": [
    "# Método 12: Registrar Compra\n",
    "El método de **registrar_compra** toma tres parámetros: self al método que vamos a instanciar de nuestra clase tienda, nombre del cliente que esta comprando  y el carrito.\n",
    "\n",
    "- **if..else nombre_cliente in self.clientes**: Es una condición que verifica si el cliente ya esta registrado, y comprueba si esta dentro de self.clientes\n",
    "    - *total_compra*. Calcula la suma de total de la compra y hemos usado una list comprehsion que recorre cada elemento del diccionario carrito y multiplica el precio de cada producto por su cantidad correspondiente.\n",
    "    - *self.ventas_totales += total_compra*. Se actuliza sumando el *total compras*\n",
    "    - *compra_cliente*. Es un diccionario para la compra de cada cliente que incluye los productos y el total de la compra\n",
    "    - **if...else**. Con esta condicion verificamos si el cliente ya ha comprado y se agrega con mediante * self.historial[nombre_cliente].append*, en caso de que no tenga se crea uno nuevo *self.historial[nombre_cliente]*          \n",
    "            \n",
    "\n",
    "\n"
   ]
  },
  {
   "cell_type": "markdown",
   "metadata": {},
   "source": [
    "## xxx. Elaboración del Código"
   ]
  },
  {
   "cell_type": "code",
   "execution_count": 2531,
   "metadata": {},
   "outputs": [],
   "source": [
    "# Definición de la Tienda Online\n",
    "class TiendaOnline:\n",
    "     # Método 0: Constructor y Atributos Iniciales\n",
    "    def __init__(self):\n",
    "        self.inventario = []# una lista vacía que va a guardar los productos: {\"nombre\",  \"precio\", \"cantidad\"}\n",
    "        self.clientes = {} # diccionario vacío que va  guardar los clientes,{\"nombre\", \"email\" }\n",
    "        self.historial= {} # diccionario vacio que contiene, {\"email y compras\"}\n",
    "        self.ventas_totales = 0.0  # Es un número decimal que llevará el registro de las ventas totales de la tienda y comienza por 0.\n",
    "\n",
    "# Método 1: Agregar productos\n",
    "    def agregar_producto(self, nombre, precio, cantidad):\n",
    "        for producto in self.inventario:  # Itera a través inventario\n",
    "            if producto['nombre'] == nombre:   # Producto existe en el inventario.\n",
    "                producto['cantidad'] += cantidad # Actualiza su cantidad.\n",
    "                print(f\"Actualizada la cantidad de {nombre} en {cantidad} uds.\") #Muestra el mensaje de actualización\n",
    "                return # Devuelve el diccionario de productos actualizado si ya existe\n",
    "        else:\n",
    "            nuevo_producto = {'nombre': nombre, 'precio': precio, 'cantidad': cantidad} # Si producto existe en el inventario.\n",
    "            self.inventario.append(nuevo_producto)\n",
    "            print(f\"Agregado el producto {nombre} al inventario.\")\n",
    "\n",
    "# Método 2: Inventario\n",
    "    def ver_inventario(self):\n",
    "        inventario = []  # Inicializa una lista vacía para el inventario\n",
    "        for producto in self.inventario:  # Itera a través del inventario\n",
    "            nombre = producto['nombre'] \n",
    "            precio = producto['precio']\n",
    "            cantidad = producto['cantidad']\n",
    "            print(f\"Nombre: {nombre}, Precio: ${precio}, Cantidad: {cantidad}\")\n",
    "\n",
    "# Método 3: Buscar productos\n",
    "    \n",
    "    def buscar_producto_por_nombre(self, nombre): \n",
    "        resultados = [] # Inicia una lista vacía para almacenar los resultados de la búsqueda\n",
    "        for producto in self.inventario:  # Itera a través de productos\n",
    "            if producto[\"nombre\"].lower() == nombre.lower(): # Compara el nombre del producto (en minúsculas) con el nombre proporcionado (también en minúsculas)\n",
    "                print(f\"Nombre: {producto['nombre']}, Precio: ${producto['precio']}, Cantidad: {producto['cantidad']}\") # Si se encuentra el producto, imprime sus detalles\n",
    "                resultados.append(producto) # Agrega el producto encontrado a la lista de resultados\n",
    "                return resultados  \n",
    "        if not resultados:    # Verifica si se encontraron productos\n",
    "            print(\"Producto no encontrado.\")\n",
    "            \n",
    "# Método 4: Actualizar Stock\n",
    "      \n",
    "    def actualizar_stock(self, nombre, cantidad):\n",
    "        for producto in self.inventario:\n",
    "            if producto['nombre'] == nombre:\n",
    "                if cantidad is not None:\n",
    "                    producto['cantidad'] += cantidad\n",
    "                print(f\"Stock actualizado para {nombre}.\")   # Imprime un mensaje de éxito con la información del producto actualizado\n",
    "                return self.inventario # Devuelve el inventario actualizado en caso de que encuentre el producto.\n",
    "            \n",
    "        print(f\"Producto no encontrado {nombre}.\") # Si el producto no se encuentra, muestra un mensaje de error\n",
    "        return None\n",
    "\n",
    "# Método 5: Eliminar Productos\n",
    "    def eliminar_producto(self, nombre):\n",
    "        for producto in self.inventario:\n",
    "            if producto['nombre'] == nombre:  # Verifica si el 'producti' existe\n",
    "                self.inventario.remove(producto) # Si el que buscamos producto está se elimina\n",
    "                print(\"Producto eliminado con éxito.\")   # Imprime un mensaje de éxito de la eliminación del producto\n",
    "                return self.inventario  # Nos devuelve el inventario actualizado.\n",
    "                break\n",
    "        else:\n",
    "            print(f\"No se encontró el producto  {nombre}.\")\n",
    "     \n",
    "# Método 6: Valor Inventario\n",
    "    def calcular_valor_inventario(self):\n",
    "        valor_total = 0   # Inicializa una variable para el total del valor en 0 que se va a ir acumulando\n",
    "        for producto in self.inventario: # Itera a través de los productos\n",
    "            valor_producto = producto['precio'] * producto['cantidad'] # Multiplicamos el valor de cada producto por su cantidad \n",
    "            valor_total += valor_producto # Agregamos el valor del producto al valor total cada vez que se realiza el bucle, es decir calcula el valor de cada uno y las suma al total del inventario\n",
    "        print(f\"El valor total del inventario es: {valor_total}\")\n",
    "        return valor_total # Devuelve el valor total de inventario   \n",
    "        \n",
    "# Método 7: Buscar con una expresion regular        \n",
    "    def buscar_producto_regex(self, patron):\n",
    "        import re     \n",
    "        resultados = [] # Inicializa una lista vacía para almacenar los nombres que cumplan con la expresion regular \n",
    "        for producto in self.inventario: # Itera a través de la lista original con un bucle for\n",
    "            if re.search(patron, producto[\"nombre\"]): #  Utiliza la función re.search para buscar coincidencias con el patrón de expresión regular en el nombre del producto\n",
    "                resultados.append(producto)\n",
    "        for producto in resultados:\n",
    "            print(f\"Nombre: {producto['nombre']}, Precio: ${producto['precio']}, Cantidad: {producto['cantidad']}\")\n",
    "    \n",
    "# Método 8:Realizar compras  \n",
    "    def realizar_compra(self):\n",
    "        carrito = []  # Lista para almacenar la compra\n",
    "        seguir_comprando = True  # Variable booleana como método de control de inicio de la compra\n",
    "        coste_total = 0  # Variable para almacenar el coste total de la compra\n",
    "        \n",
    "\n",
    "        while seguir_comprando:  # Inicia un bucle while que permite al cliente realizar múltiples compras\n",
    "            self.ver_inventario()  # Ver el inventario actual\n",
    "            nombre_producto = input(\"Ingrese el nombre del producto que desea comprar: \")  # Solicitamos al comprador el nombre del producto\n",
    "            cantidad = int(input(\"Ingrese la cantidad que desea comprar: \"))  # Solicitamos al comprador las unidades      \n",
    "            producto_encontrado = False  # Variable para verificar si se encontró el producto en el inventario\n",
    "        \n",
    "            for producto in self.inventario:  # Iniciamos la búsqueda en el inventario\n",
    "             if producto['nombre'] == nombre_producto and producto['cantidad'] >= cantidad:  # Si el producto y la cantidad están disponibles\n",
    "                carrito.append({'precio': producto['precio'], 'cantidad': cantidad})  # Agregamos al carrito como diccionario\n",
    "                producto['cantidad'] -= cantidad  # Actualizamos el inventario restando las unidades solicitadas\n",
    "                producto_encontrado = True  # Indicamos que se encontró el producto.\n",
    "                coste_total += producto['precio'] * cantidad  # Calculamos el costo total\n",
    "                break\n",
    "        \n",
    "            if not producto_encontrado:  # Si el producto no se encontró en el inventario o la cantidad es insuficiente\n",
    "                print(\"Producto no encontrado o cantidad insuficiente.\")\n",
    "        \n",
    "            respuesta = input(\"¿Desea seguir comprando? (s/n): \")  # Preguntamos al cliente si quiere seguir comprando\n",
    "            if respuesta.lower() != 's':\n",
    "             seguir_comprando = False  # Si la respuesta no es 's', terminamos la compra\n",
    "\n",
    "        \n",
    "        print(f\"Coste total de la compra: ${coste_total}\")  # Mostramos el costo total de la compra    \n",
    "        return carrito\n",
    "\n",
    "# Método 9:Procesar Pago\n",
    "    def procesar_pago(self):\n",
    "        try:\n",
    "            total = float(input(\"Ingrese la cantidad total a pagar: \"))\n",
    "            pago = float(input(\"Ingrese la cantidad de tu pago: \"))\n",
    "            cambio = pago - total\n",
    "            if cambio >= 0:\n",
    "                print(f\"Pago con exito. Tu cambio es: ${cambio}\")\n",
    "            else:\n",
    "                print(f\"Error: Cantidad insuficiente, te falta dinero Tacaño.\")\n",
    "        except ValueError:\n",
    "            print(\"Error: Ingrese un número  válido para la cantidad y el pago.\")\n",
    "\n",
    "# Método 10:Agregar Clientes\n",
    "    def agregar_cliente(self, nombre, email):\n",
    "        if email not in self.clientes: # Si no existe, agrega al cliente al diccionario de clientes con su nombre y correo\n",
    "            self.clientes[email] = [nombre, email]\n",
    "            print(f\"Cliente {nombre} registrado exitosamente.\")\n",
    "            return self.clientes  # Devuelve el diccionario de clientes actualizado\n",
    "        else:\n",
    "            print(f\"Error: Este correo electrónico ya está registrado para otro cliente .\") \n",
    " \n",
    "# Método 11: Ver Clientes   \n",
    "    def ver_clientes(self):\n",
    "        print(\"Lista de clientes registrados:\")\n",
    "        for email, clientes in self.clientes.items():\n",
    "            nombre, email = clientes\n",
    "            print(f\"Nombre: {nombre}, Correo electrónico: {email}\") \n",
    "    \n",
    "# Método 12: Registrar Compra \n",
    "    def registrar_compra(self, nombre_cliente, carrito):\n",
    "        if nombre_cliente in self.clientes:  # Comprueba si el cliente está registrado\n",
    "            total_compra = sum(producto['precio'] * producto['cantidad'] for producto in carrito)  # Calcula el total de la compra con una list comprehension usando for \n",
    "            self.ventas_totales += total_compra  # Actualiza las ventas totales de la tienda\n",
    "            compra_cliente = {\"productos\": carrito, \"total\": total_compra}  # Crear un diccionario para la compra del cliente\n",
    "            \n",
    "            if nombre_cliente in self.historial:  # Verifica si el cliente ya tiene un historial de compras\n",
    "                self.historial[nombre_cliente].append({\"productos\": carrito, \"total\": total_compra})  # Agrega la compra al historial del cliente\n",
    "            else:\n",
    "                self.historial[nombre_cliente] = [{\"productos\": carrito, \"total\": total_compra}]  # Crea un nuevo historial para el cliente\n",
    "            print(f\"Compra registrada para el cliente {nombre_cliente}. Total de compra: €{total_compra}\")\n",
    "        else:\n",
    "            print(f\"Cliente no registrado no se puede realizar la compra\")\n"
   ]
  },
  {
   "cell_type": "markdown",
   "metadata": {},
   "source": [
    "## xxx. Resultados del programa"
   ]
  },
  {
   "cell_type": "code",
   "execution_count": 2532,
   "metadata": {},
   "outputs": [],
   "source": [
    "# Crear una instancia de la clase TiendaOnline\n",
    "tienda = TiendaOnline()"
   ]
  },
  {
   "cell_type": "code",
   "execution_count": 2533,
   "metadata": {},
   "outputs": [
    {
     "name": "stdout",
     "output_type": "stream",
     "text": [
      "Agregado el producto Camisa al inventario.\n",
      "Agregado el producto Pantalon al inventario.\n",
      "Agregado el producto Zapatos al inventario.\n"
     ]
    }
   ],
   "source": [
    "# Agregar productos\n",
    "tienda.agregar_producto('Camisa', 20, 40)\n",
    "tienda.agregar_producto('Pantalon', 30, 30)\n",
    "tienda.agregar_producto('Zapatos', 50, 40)"
   ]
  },
  {
   "cell_type": "code",
   "execution_count": 2534,
   "metadata": {},
   "outputs": [
    {
     "name": "stdout",
     "output_type": "stream",
     "text": [
      "Nombre: Camisa, Precio: $20, Cantidad: 40\n",
      "Nombre: Pantalon, Precio: $30, Cantidad: 30\n",
      "Nombre: Zapatos, Precio: $50, Cantidad: 40\n"
     ]
    }
   ],
   "source": [
    "# Ver Inventario\n",
    "tienda.ver_inventario()"
   ]
  },
  {
   "cell_type": "code",
   "execution_count": 2535,
   "metadata": {},
   "outputs": [
    {
     "name": "stdout",
     "output_type": "stream",
     "text": [
      "\n",
      "Búsqueda de productos por nombre 'Camisa':\n",
      "Nombre: Camisa, Precio: $20, Cantidad: 40\n",
      "[{'nombre': 'Camisa', 'precio': 20, 'cantidad': 40}]\n",
      "\n",
      "Búsqueda de productos por nombre 'Vestido':\n",
      "Producto no encontrado.\n",
      "None\n",
      "\n",
      "Búsqueda de productos por nombre 'Pantalon':\n",
      "Nombre: Pantalon, Precio: $30, Cantidad: 30\n",
      "[{'nombre': 'Pantalon', 'precio': 30, 'cantidad': 30}]\n"
     ]
    }
   ],
   "source": [
    "# Buscar productos\n",
    "print(\"\\nBúsqueda de productos por nombre 'Camisa':\")\n",
    "print(tienda.buscar_producto_por_nombre(\"Camisa\"))\n",
    "\n",
    "print(\"\\nBúsqueda de productos por nombre 'Vestido':\")\n",
    "print(tienda.buscar_producto_por_nombre(\"Vestido\"))\n",
    "\n",
    "\n",
    "print(\"\\nBúsqueda de productos por nombre 'Pantalon':\")\n",
    "print(tienda.buscar_producto_por_nombre(\"Pantalon\"))"
   ]
  },
  {
   "cell_type": "code",
   "execution_count": 2536,
   "metadata": {},
   "outputs": [
    {
     "name": "stdout",
     "output_type": "stream",
     "text": [
      "Stock actualizado para Camisa.\n",
      "Nombre: Camisa, Precio: $20, Cantidad: 45\n",
      "Nombre: Pantalon, Precio: $30, Cantidad: 30\n",
      "Nombre: Zapatos, Precio: $50, Cantidad: 40\n",
      "Stock actualizado para Pantalon.\n",
      "Nombre: Camisa, Precio: $20, Cantidad: 45\n",
      "Nombre: Pantalon, Precio: $30, Cantidad: 40\n",
      "Nombre: Zapatos, Precio: $50, Cantidad: 40\n",
      "Producto no encontrado Gorro.\n",
      "Nombre: Camisa, Precio: $20, Cantidad: 45\n",
      "Nombre: Pantalon, Precio: $30, Cantidad: 40\n",
      "Nombre: Zapatos, Precio: $50, Cantidad: 40\n"
     ]
    }
   ],
   "source": [
    "#  Actualizar Stock\n",
    "tienda.actualizar_stock(\"Camisa\", +5)\n",
    "tienda.ver_inventario()\n",
    "\n",
    "tienda.actualizar_stock(\"Pantalon\", +10)\n",
    "tienda.ver_inventario()\n",
    "\n",
    "tienda.actualizar_stock(\"Gorro\", +10)\n",
    "tienda.ver_inventario()"
   ]
  },
  {
   "cell_type": "code",
   "execution_count": 2537,
   "metadata": {},
   "outputs": [
    {
     "name": "stdout",
     "output_type": "stream",
     "text": [
      "Producto eliminado con éxito.\n",
      "Nombre: Camisa, Precio: $20, Cantidad: 45\n",
      "Nombre: Zapatos, Precio: $50, Cantidad: 40\n"
     ]
    }
   ],
   "source": [
    "# Eliminar Productos\n",
    "tienda.eliminar_producto(\"Pantalon\")\n",
    "tienda.ver_inventario()"
   ]
  },
  {
   "cell_type": "code",
   "execution_count": 2538,
   "metadata": {},
   "outputs": [
    {
     "name": "stdout",
     "output_type": "stream",
     "text": [
      "No se encontró el producto  Blusa.\n",
      "Nombre: Camisa, Precio: $20, Cantidad: 45\n",
      "Nombre: Zapatos, Precio: $50, Cantidad: 40\n"
     ]
    }
   ],
   "source": [
    "tienda.eliminar_producto(\"Blusa\")\n",
    "tienda.ver_inventario()"
   ]
  },
  {
   "cell_type": "code",
   "execution_count": 2539,
   "metadata": {},
   "outputs": [
    {
     "name": "stdout",
     "output_type": "stream",
     "text": [
      "El valor total del inventario es: 2900\n",
      "Valor total del inventario: 2900\n"
     ]
    }
   ],
   "source": [
    "# Valor total del inventario\n",
    "print(\"Valor total del inventario:\", tienda.calcular_valor_inventario())"
   ]
  },
  {
   "cell_type": "code",
   "execution_count": 2540,
   "metadata": {},
   "outputs": [
    {
     "name": "stdout",
     "output_type": "stream",
     "text": [
      "Productos que coinciden con el patrón '^[A-Ca-c]\\w+':\n",
      "Nombre: Camisa, Precio: $20, Cantidad: 45\n"
     ]
    }
   ],
   "source": [
    "# Expresion regular\n",
    "print(\"Productos que coinciden con el patrón '^[A-Ca-c]\\w+':\")\n",
    "tienda.buscar_producto_regex(\"^[A-Ca-c]\\w+\")"
   ]
  },
  {
   "cell_type": "code",
   "execution_count": 2541,
   "metadata": {},
   "outputs": [
    {
     "name": "stdout",
     "output_type": "stream",
     "text": [
      "Nombre: Camisa, Precio: $20, Cantidad: 45\n",
      "Nombre: Zapatos, Precio: $50, Cantidad: 40\n",
      "Coste total de la compra: $200\n",
      "--------------------\n",
      "Nombre: Camisa, Precio: $20, Cantidad: 35\n",
      "Nombre: Zapatos, Precio: $50, Cantidad: 40\n",
      "Producto no encontrado o cantidad insuficiente.\n",
      "Coste total de la compra: $0\n",
      "--------------------\n"
     ]
    }
   ],
   "source": [
    "# Compras y Carrito\n",
    "tienda.realizar_compra()\n",
    "print('-' * 20)\n",
    "carrito_cliente = tienda.realizar_compra()\n",
    "print('-' * 20)"
   ]
  },
  {
   "cell_type": "code",
   "execution_count": 2542,
   "metadata": {},
   "outputs": [
    {
     "name": "stdout",
     "output_type": "stream",
     "text": [
      "Error: Cantidad insuficiente, te falta dinero Tacaño.\n"
     ]
    }
   ],
   "source": [
    "# Procesar el pago\n",
    "tienda.procesar_pago()"
   ]
  },
  {
   "cell_type": "code",
   "execution_count": 2543,
   "metadata": {},
   "outputs": [
    {
     "name": "stdout",
     "output_type": "stream",
     "text": [
      "Cliente Luis registrado exitosamente.\n",
      "Cliente Maria registrado exitosamente.\n",
      "Cliente Ana registrado exitosamente.\n",
      "--------------------\n",
      "Error: Este correo electrónico ya está registrado para otro cliente .\n"
     ]
    }
   ],
   "source": [
    "# Agregar Clientes\n",
    "\n",
    "tienda.agregar_cliente(\"Luis\", \"luis@example.com\")\n",
    "tienda.agregar_cliente(\"Maria\", \"maria@example.com\")\n",
    "tienda.agregar_cliente(\"Ana\", \"ana@example.com\")\n",
    "print('-' * 20)\n",
    "tienda.agregar_cliente(\"MariaTeresa\", \"maria@example.com\")\n"
   ]
  },
  {
   "cell_type": "code",
   "execution_count": 2544,
   "metadata": {},
   "outputs": [
    {
     "name": "stdout",
     "output_type": "stream",
     "text": [
      "Lista de clientes registrados:\n",
      "Nombre: Luis, Correo electrónico: luis@example.com\n",
      "Nombre: Maria, Correo electrónico: maria@example.com\n",
      "Nombre: Ana, Correo electrónico: ana@example.com\n"
     ]
    }
   ],
   "source": [
    "# Ver Lista de Clientes\n",
    "tienda.ver_clientes()"
   ]
  },
  {
   "cell_type": "code",
   "execution_count": 2547,
   "metadata": {},
   "outputs": [
    {
     "name": "stdout",
     "output_type": "stream",
     "text": [
      "Compra registrada para el cliente luis@example.com. Total de compra: €60\n",
      "--------------------\n",
      "Cliente no registrado no se puede realizar la compra\n",
      "--------------------\n",
      "Compra registrada para el cliente luis@example.com. Total de compra: €100\n",
      "--------------------\n",
      "Historial de compras de Luis :\n",
      "[{'productos': [{'nombre': 'Camisa', 'precio': 20, 'cantidad': 3}], 'total': 60}, {'productos': [{'nombre': 'Camisa', 'precio': 20, 'cantidad': 5}], 'total': 100}, {'productos': [{'nombre': 'Camisa', 'precio': 20, 'cantidad': 3}], 'total': 60}, {'productos': [{'nombre': 'Camisa', 'precio': 20, 'cantidad': 5}], 'total': 100}, {'productos': [{'nombre': 'Camisa', 'precio': 20, 'cantidad': 3}], 'total': 60}, {'productos': [{'nombre': 'Camisa', 'precio': 20, 'cantidad': 5}], 'total': 100}]\n"
     ]
    }
   ],
   "source": [
    "# Registro Compra\n",
    "carrito_luis = [{'nombre': \"Camisa\", \"precio\": 20,\"cantidad\": 3}]\n",
    "tienda.registrar_compra(\"luis@example.com\", carrito_luis)\n",
    "print('-' * 20)\n",
    "\n",
    "carrito_pepe = [{'nombre': \"Zapatos\", \"precio\": 20,\"cantidad\": 3}]\n",
    "tienda.registrar_compra(\"pepe@example.com\", carrito_pepe)\n",
    "\n",
    "print('-' * 20)\n",
    "carrito_luis2 = [{'nombre': \"Camisa\", \"precio\": 20,\"cantidad\": 5}]\n",
    "tienda.registrar_compra(\"luis@example.com\", carrito_luis2)\n",
    "print('-' * 20)\n",
    "print(\"Historial de compras de Luis :\")\n",
    "print(tienda.historial[\"luis@example.com\"])\n"
   ]
  }
 ],
 "metadata": {
  "kernelspec": {
   "display_name": "base",
   "language": "python",
   "name": "python3"
  },
  "language_info": {
   "codemirror_mode": {
    "name": "ipython",
    "version": 3
   },
   "file_extension": ".py",
   "mimetype": "text/x-python",
   "name": "python",
   "nbconvert_exporter": "python",
   "pygments_lexer": "ipython3",
   "version": "3.9.7"
  }
 },
 "nbformat": 4,
 "nbformat_minor": 2
}
